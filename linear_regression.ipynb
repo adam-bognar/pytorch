{
 "cells": [
  {
   "cell_type": "code",
   "execution_count": 112,
   "id": "baca694a",
   "metadata": {},
   "outputs": [],
   "source": [
    "import torch\n",
    "from torch import nn\n",
    "import matplotlib.pyplot as plt\n",
    "from sklearn.model_selection import train_test_split"
   ]
  },
  {
   "cell_type": "code",
   "execution_count": 113,
   "id": "7b2a3f40",
   "metadata": {},
   "outputs": [
    {
     "data": {
      "text/plain": [
       "(tensor([[0.0000],\n",
       "         [0.0100],\n",
       "         [0.0200],\n",
       "         [0.0300],\n",
       "         [0.0400]]),\n",
       " tensor([[0.9000],\n",
       "         [0.9030],\n",
       "         [0.9060],\n",
       "         [0.9090],\n",
       "         [0.9120]]))"
      ]
     },
     "execution_count": 113,
     "metadata": {},
     "output_type": "execute_result"
    }
   ],
   "source": [
    "weight = 0.3\n",
    "bias = 0.9\n",
    "\n",
    "start = 0\n",
    "end = 1\n",
    "step = 0.01\n",
    "\n",
    "X= torch.arange(start, end, step).unsqueeze(1)\n",
    "y = weight * X + bias\n",
    "len(X), len(y)\n",
    "X[:5], y[:5]"
   ]
  },
  {
   "cell_type": "code",
   "execution_count": 114,
   "id": "b462afe1",
   "metadata": {},
   "outputs": [
    {
     "data": {
      "text/plain": [
       "(80, 20)"
      ]
     },
     "execution_count": 114,
     "metadata": {},
     "output_type": "execute_result"
    }
   ],
   "source": [
    "X_train, X_test, y_train, y_test = train_test_split(X,y, test_size=0.2)\n",
    "len(X_train), len(X_test)"
   ]
  },
  {
   "cell_type": "code",
   "execution_count": 115,
   "id": "e999911a",
   "metadata": {},
   "outputs": [],
   "source": [
    "def plot_predictions(train_data = X_train,\n",
    "                     train_labels = y_train,\n",
    "                     test_data = X_test,\n",
    "                     test_labels = y_test,\n",
    "                     predictions = None):\n",
    "    plt.figure(figsize=(10,7))\n",
    "    plt.scatter(train_data, train_labels, c=\"b\", s=4, label = \"Training data\")\n",
    "    plt.scatter(test_data, test_labels, c=\"r\", s=4, label = \"Testing data\")\n",
    "\n",
    "    if predictions is not None:\n",
    "        plt.scatter(test_data, predictions, c=\"r\", s=4, label = \"Predictions\")\n",
    "\n",
    "    plt.legend(prop={\"size\":14})"
   ]
  },
  {
   "cell_type": "code",
   "execution_count": 116,
   "id": "4a896e70",
   "metadata": {},
   "outputs": [
    {
     "data": {
      "image/png": "[encoded data removed]",
      "text/plain": [
       "<Figure size 1000x700 with 1 Axes>"
      ]
     },
     "metadata": {},
     "output_type": "display_data"
    }
   ],
   "source": [
    "plot_predictions()"
   ]
  },
  {
   "cell_type": "code",
   "execution_count": 117,
   "id": "6a70b87e",
   "metadata": {},
   "outputs": [],
   "source": [
    "class LinearRegressionModel(nn.Module):\n",
    "    def __init__(self):\n",
    "        super().__init__()\n",
    "\n",
    "        #self.weights = nn.Parameter(torch.randn(1,\n",
    "         #                                       requires_grad=True,\n",
    "          #                                      dtype=torch.float))\n",
    "        \n",
    "        #self.bias = nn.Parameter(torch.randn(1,\n",
    "         #                                       requires_grad=True,\n",
    "          #                                      dtype=torch.float))\n",
    "\n",
    "        self.layer = nn.Linear(in_features=1,\n",
    "                               out_features=1)\n",
    "        \n",
    "    def forward(self, x):\n",
    "        #return self.weights * x + self.bias\n",
    "        return self.layer(x)"
   ]
  },
  {
   "cell_type": "code",
   "execution_count": 118,
   "id": "5ab4c265",
   "metadata": {},
   "outputs": [
    {
     "data": {
      "text/plain": [
       "OrderedDict([('layer.weight', tensor([[-0.7617]])),\n",
       "             ('layer.bias', tensor([-0.0808]))])"
      ]
     },
     "execution_count": 118,
     "metadata": {},
     "output_type": "execute_result"
    }
   ],
   "source": [
    "model_0 = LinearRegressionModel()\n",
    "model_0.state_dict()"
   ]
  },
  {
   "cell_type": "code",
   "execution_count": 119,
   "id": "72163984",
   "metadata": {},
   "outputs": [],
   "source": [
    "loss_fn = nn.L1Loss()\n",
    "\n",
    "optimizer = torch.optim.SGD(params = model_0.parameters(),\n",
    "                            lr = 0.01)"
   ]
  },
  {
   "cell_type": "code",
   "execution_count": 120,
   "id": "ea90f4ee",
   "metadata": {},
   "outputs": [
    {
     "name": "stdout",
     "output_type": "stream",
     "text": [
      "Epoch: 0 | Loss: 1.505236029624939 | Test loss: 1.498079538345337\n",
      "Epoch: 20 | Loss: 1.2564290761947632 | Test loss: 1.2487785816192627\n",
      "Epoch: 40 | Loss: 1.007622241973877 | Test loss: 0.9994775652885437\n",
      "Epoch: 60 | Loss: 0.7588152885437012 | Test loss: 0.750176727771759\n",
      "Epoch: 80 | Loss: 0.5100082159042358 | Test loss: 0.5008755922317505\n",
      "Epoch: 100 | Loss: 0.2625400722026825 | Test loss: 0.25450408458709717\n",
      "Epoch: 120 | Loss: 0.13125978410243988 | Test loss: 0.14584481716156006\n",
      "Epoch: 140 | Loss: 0.09984148293733597 | Test loss: 0.11463122069835663\n",
      "Epoch: 160 | Loss: 0.08834996819496155 | Test loss: 0.1006356030702591\n",
      "Epoch: 180 | Loss: 0.07892999053001404 | Test loss: 0.08959417045116425\n",
      "Epoch: 200 | Loss: 0.06961457431316376 | Test loss: 0.07892241328954697\n",
      "Epoch: 220 | Loss: 0.06029917672276497 | Test loss: 0.06825067102909088\n",
      "Epoch: 240 | Loss: 0.05098377540707588 | Test loss: 0.0575789138674736\n",
      "Epoch: 260 | Loss: 0.04166843369603157 | Test loss: 0.04690719395875931\n",
      "Epoch: 280 | Loss: 0.03235394507646561 | Test loss: 0.03627307713031769\n"
     ]
    }
   ],
   "source": [
    "epochs = 300\n",
    "\n",
    "for epoch in range(epochs):\n",
    "    model_0.train()\n",
    "\n",
    "    y_pred = model_0(X_train)\n",
    "\n",
    "    loss = loss_fn(y_pred, y_train)\n",
    "\n",
    "    optimizer.zero_grad()\n",
    "\n",
    "    loss.backward()\n",
    "\n",
    "    optimizer.step()\n",
    "\n",
    "    if epoch % 20 == 0:\n",
    "        model_0.eval()\n",
    "\n",
    "        with torch.inference_mode():\n",
    "            test_pred = model_0(X_test)\n",
    "\n",
    "            test_loss = loss_fn(test_pred, y_test)\n",
    "    \n",
    "    if epoch % 20 == 0:\n",
    "        print(f\"Epoch: {epoch} | Loss: {loss} | Test loss: {test_loss}\")"
   ]
  }
 ],
 "metadata": {
  "kernelspec": {
   "display_name": "Python 3",
   "language": "python",
   "name": "python3"
  },
  "language_info": {
   "codemirror_mode": {
    "name": "ipython",
    "version": 3
   },
   "file_extension": ".py",
   "mimetype": "text/x-python",
   "name": "python",
   "nbconvert_exporter": "python",
   "pygments_lexer": "ipython3",
   "version": "3.13.1"
  }
 },
 "nbformat": 4,
 "nbformat_minor": 5
}
